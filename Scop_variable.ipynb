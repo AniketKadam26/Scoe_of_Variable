{
 "cells": [
  {
   "cell_type": "markdown",
   "id": "18ec8476",
   "metadata": {},
   "source": [
    "# Local Variable"
   ]
  },
  {
   "cell_type": "code",
   "execution_count": 1,
   "id": "a5370327",
   "metadata": {},
   "outputs": [
    {
     "name": "stdout",
     "output_type": "stream",
     "text": [
      "Potato is local variable value\n",
      "kiwi is local variable value\n"
     ]
    }
   ],
   "source": [
    "def foods():\n",
    "    vagetable=\"Potato\"\n",
    "    fruit=\"kiwi\"\n",
    "    print(vagetable+\" is local variable value\")\n",
    "    print(fruit+\" is local variable value\")\n",
    "foods()"
   ]
  },
  {
   "cell_type": "markdown",
   "id": "e42c5b27",
   "metadata": {},
   "source": [
    "# Global Variable"
   ]
  },
  {
   "cell_type": "code",
   "execution_count": 7,
   "id": "69d45159",
   "metadata": {},
   "outputs": [
    {
     "name": "stdout",
     "output_type": "stream",
     "text": [
      "potato is local variable value\n",
      "Vanilla is Global variable value\n"
     ]
    }
   ],
   "source": [
    "icecream=\"Vanilla\"\n",
    "def foods():\n",
    "    vegetable=\"potato\"\n",
    "    fruit=\"kiwi\"\n",
    "    print(vegetable+ \" is local variable value\")\n",
    "        \n",
    "foods()\n",
    "print(icecream+\" is Global variable value\")\n",
    "#print(fruit+\" is local variable value\")"
   ]
  },
  {
   "cell_type": "code",
   "execution_count": null,
   "id": "4a1d6213",
   "metadata": {},
   "outputs": [],
   "source": []
  }
 ],
 "metadata": {
  "kernelspec": {
   "display_name": "Python 3 (ipykernel)",
   "language": "python",
   "name": "python3"
  },
  "language_info": {
   "codemirror_mode": {
    "name": "ipython",
    "version": 3
   },
   "file_extension": ".py",
   "mimetype": "text/x-python",
   "name": "python",
   "nbconvert_exporter": "python",
   "pygments_lexer": "ipython3",
   "version": "3.11.5"
  }
 },
 "nbformat": 4,
 "nbformat_minor": 5
}
